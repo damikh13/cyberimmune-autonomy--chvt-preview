{
 "cells": [
  {
   "cell_type": "code",
   "execution_count": 1,
   "metadata": {},
   "outputs": [],
   "source": [
    "afcs_present = True"
   ]
  },
  {
   "cell_type": "code",
   "execution_count": 2,
   "metadata": {},
   "outputs": [
    {
     "name": "stdout",
     "output_type": "stream",
     "text": [
      "[ИНФО][QUEUES] создан каталог очередей\n"
     ]
    }
   ],
   "source": [
    "from src.queues_dir import QueuesDirectory\n",
    "\n",
    "# каталог очередей для передачи сообщений между блоками\n",
    "queues_dir = QueuesDirectory()  "
   ]
  },
  {
   "cell_type": "code",
   "execution_count": 3,
   "metadata": {},
   "outputs": [
    {
     "name": "stdout",
     "output_type": "stream",
     "text": [
      "[ИНФО][QUEUES] регистрируем очередь sitl\n",
      "[ИНФО][SITL] симулятор создан, ID m1\n"
     ]
    }
   ],
   "source": [
    "from src.sitl import SITL\n",
    "from geopy import Point as GeoPoint\n",
    "\n",
    "# координата текущего положения машинки\n",
    "home = GeoPoint(latitude=59.939032, longitude=30.315827) \n",
    "\n",
    "# идентификатор машинки (аналог VIN)\n",
    "car_id = \"m1\" \n",
    "\n",
    "sitl = SITL(queues_dir=queues_dir, position=home, car_id=car_id)"
   ]
  },
  {
   "cell_type": "code",
   "execution_count": 4,
   "metadata": {},
   "outputs": [],
   "source": [
    "from multiprocessing import Queue\n",
    "from src.communication_gateway import BaseCommunicationGateway\n",
    "from src.config import CONTROL_SYSTEM_QUEUE_NAME\n",
    "from src.event_types import Event\n",
    "\n",
    "class CommunicationGateway(BaseCommunicationGateway):\n",
    "    \"\"\"CommunicationGateway класс для реализации логики взаимодействия\n",
    "    с системой планирования заданий\n",
    "\n",
    "    Работает в отдельном процессе, поэтому создаётся как наследник класса Process\n",
    "    \"\"\"\n",
    "    def _send_mission_to_consumers(self):\n",
    "        \"\"\" метод для отправки сообщения с маршрутным заданием в систему управления \"\"\"\n",
    "        \n",
    "        # имена очередей блоков находятся в файле src/config.py\n",
    "        # события нужно отправлять в соответствие с диаграммой информационных потоков\n",
    "        control_q_name = CONTROL_SYSTEM_QUEUE_NAME\n",
    "\n",
    "        # события передаются в виде экземпляров класса Event, \n",
    "        # описание класса находится в файле src/event_types.py\n",
    "        event = Event(source=BaseCommunicationGateway.event_source_name,\n",
    "                      destination=control_q_name,\n",
    "                      operation=\"set_mission\", parameters=self._mission\n",
    "                      )\n",
    "\n",
    "        # поиск в каталоге нужной очереди (в данном случае - системы управления)\n",
    "        control_q: Queue = self._queues_dir.get_queue(control_q_name)\n",
    "        # отправка события в найденную очередь\n",
    "        control_q.put(event)"
   ]
  },
  {
   "cell_type": "code",
   "execution_count": 5,
   "metadata": {},
   "outputs": [
    {
     "name": "stdout",
     "output_type": "stream",
     "text": [
      "[ИНФО][QUEUES] регистрируем очередь communication\n",
      "[ИНФО][COMMUNICATION] создан компонент связи\n"
     ]
    }
   ],
   "source": [
    "communication_gateway = CommunicationGateway(queues_dir=queues_dir)"
   ]
  },
  {
   "cell_type": "code",
   "execution_count": 6,
   "metadata": {},
   "outputs": [],
   "source": [
    "from src.config import SERVOS_QUEUE_NAME\n",
    "from src.control_system import BaseControlSystem\n",
    "\n",
    "class ControlSystem(BaseControlSystem):\n",
    "    \"\"\"ControlSystem блок расчёта управления \"\"\"\n",
    "\n",
    "    def _send_speed_and_direction_to_consumers(self, speed, direction):\n",
    "        servos_q_name = SERVOS_QUEUE_NAME # замените на правильное название очереди\n",
    "        servos_q: Queue = self._queues_dir.get_queue(servos_q_name)\n",
    "\n",
    "        # отправка сообщения с желаемой скоростью\n",
    "        event_speed = Event(source=BaseControlSystem.event_source_name,\n",
    "                      destination=servos_q_name,\n",
    "                      operation=\"set_speed\", parameters=speed\n",
    "                      ) # код создания сообщения со скоростью для приводов\n",
    "\n",
    "        # отправка сообщения с желаемым направлением\n",
    "        event_direction = Event(source=BaseControlSystem.event_source_name,\n",
    "                      destination=servos_q_name,\n",
    "                      operation=\"set_direction\", parameters=direction\n",
    "                      ) # код создания сообщения с направлением для приводов\n",
    "\n",
    "        servos_q.put(event_speed)\n",
    "        servos_q.put(event_direction)       "
   ]
  },
  {
   "cell_type": "code",
   "execution_count": 7,
   "metadata": {},
   "outputs": [],
   "source": [
    "# найдите подходящее имя очереди в файле src/config.py и добавьте в строчку ниже\n",
    "from src.config import CONTROL_SYSTEM_QUEUE_NAME # импортируем имя очереди для приводов\n",
    "from src.navigation_system import BaseNavigationSystem\n",
    "\n",
    "\n",
    "class NavigationSystem(BaseNavigationSystem):\n",
    "    \"\"\"Класс навигационного блока\"\"\"\n",
    "    def _send_position_to_consumers(self):        \n",
    "        control_q_name = CONTROL_SYSTEM_QUEUE_NAME\n",
    "        event = Event(\n",
    "            source=BaseNavigationSystem.event_source_name,\n",
    "            destination=control_q_name,\n",
    "            operation=\"position_update\",\n",
    "            parameters=self._position\n",
    "        )\n",
    "        control_q: Queue = self._queues_dir.get_queue(control_q_name)\n",
    "        control_q.put(event)"
   ]
  },
  {
   "cell_type": "code",
   "execution_count": 8,
   "metadata": {},
   "outputs": [
    {
     "name": "stdout",
     "output_type": "stream",
     "text": [
      "[ИНФО][QUEUES] регистрируем очередь control\n",
      "[ИНФО][CONTROL] создана система управления\n",
      "[ИНФО][QUEUES] регистрируем очередь navigation\n",
      "[ИНФО][NAVIGATION] создан компонент навигации\n"
     ]
    }
   ],
   "source": [
    "control_system = ControlSystem(queues_dir=queues_dir)\n",
    "navigation_system = NavigationSystem(queues_dir=queues_dir)"
   ]
  },
  {
   "cell_type": "code",
   "execution_count": 9,
   "metadata": {},
   "outputs": [
    {
     "name": "stdout",
     "output_type": "stream",
     "text": [
      "[ИНФО][QUEUES] регистрируем очередь servos\n",
      "[ИНФО][SERVOS] создан компонент сервоприводов\n"
     ]
    }
   ],
   "source": [
    "from src.servos import Servos\n",
    "\n",
    "servos = Servos(queues_dir=queues_dir)"
   ]
  },
  {
   "cell_type": "code",
   "execution_count": 10,
   "metadata": {},
   "outputs": [
    {
     "name": "stdout",
     "output_type": "stream",
     "text": [
      "[ИНФО][QUEUES] регистрируем очередь planner\n",
      "[ИНФО][MISSION PLANNER] создана система планирования заданий\n"
     ]
    }
   ],
   "source": [
    "from src.mission_planner import MissionPlanner\n",
    "\n",
    "mission_planner = MissionPlanner(queues_dir=queues_dir)"
   ]
  },
  {
   "cell_type": "code",
   "execution_count": 11,
   "metadata": {},
   "outputs": [],
   "source": [
    "from src.mission_type import Mission, GeoSpecificSpeedLimit\n",
    "\n",
    "mission = Mission(home=home,\n",
    "                waypoints=[GeoPoint(latitude=59.9386, longitude=30.3121),\n",
    "                           GeoPoint(latitude=59.9386, longitude=30.3149),\n",
    "                           GeoPoint(latitude=59.9421, longitude=30.3067)\n",
    "                           ],\n",
    "                speed_limits=[\n",
    "                    GeoSpecificSpeedLimit(0, 30),\n",
    "                    GeoSpecificSpeedLimit(1, 60)\n",
    "                ],\n",
    "                armed=True)"
   ]
  },
  {
   "cell_type": "code",
   "execution_count": 12,
   "metadata": {},
   "outputs": [],
   "source": [
    "mission_planner.set_new_mission(mission=mission)"
   ]
  },
  {
   "cell_type": "code",
   "execution_count": 13,
   "metadata": {},
   "outputs": [],
   "source": [
    "car_id = \"m1\""
   ]
  },
  {
   "cell_type": "code",
   "execution_count": 14,
   "metadata": {},
   "outputs": [
    {
     "name": "stdout",
     "output_type": "stream",
     "text": [
      "[ИНФО][QUEUES] регистрируем очередь sitl\n",
      "[ИНФО][SITL] симулятор создан, ID m1\n",
      "[ИНФО][QUEUES] регистрируем очередь communication\n",
      "[ИНФО][COMMUNICATION] создан компонент связи\n",
      "[ИНФО][QUEUES] регистрируем очередь control\n",
      "[ИНФО][CONTROL] создана система управления\n",
      "[ИНФО][QUEUES] регистрируем очередь navigation\n",
      "[ИНФО][NAVIGATION] создан компонент навигации\n",
      "[ИНФО][QUEUES] регистрируем очередь servos\n",
      "[ИНФО][SERVOS] создан компонент сервоприводов\n",
      "[ИНФО][SITL] [SITL] старт симуляции[ИНФО][NAVIGATION] старт навигации\n",
      "[ИНФО][SERVOS] старт блока приводов\n",
      "\n",
      "[ИНФО][CONTROL] старт системы управления[ИНФО][COMMUNICATION] старт системы планирования заданий\n",
      "[ИНФО][MISSION PLANNER] старт системы планирования заданий\n",
      "\n",
      "[ИНФО][MISSION PLANNER] запрошена новая задача, отправляем получателям\n",
      "[ИНФО][MISSION PLANNER] новая задача отправлена в коммуникационный шлюз\n",
      "[ИНФО][COMMUNICATION] получен новый маршрут, отправляем в получателям\n",
      "[ИНФО][CONTROL] установлена новая задача, начинаем следовать по маршруту, текущее время 18:17:10.758461\n",
      "[ИНФО][CONTROL] новая скорость 30 (была 0)\n",
      "[ИНФО][CONTROL] новое направление 227 (было 0)\n"
     ]
    }
   ],
   "source": [
    "from time import sleep\n",
    "from src.config import LOG_INFO\n",
    "\n",
    "# создаём основные блоки\n",
    "sitl = SITL(queues_dir=queues_dir, position=home, car_id=car_id, log_level=LOG_INFO)        # <- симулятор движения\n",
    "communication_gateway = CommunicationGateway(queues_dir=queues_dir, log_level=LOG_INFO)     # <- Связь\n",
    "control_system = ControlSystem(queues_dir=queues_dir, log_level=LOG_INFO)                   # <- Система управления\n",
    "navigation_system = NavigationSystem(queues_dir=queues_dir, log_level=LOG_INFO)             # <- Навигация\n",
    "servos = Servos(queues_dir=queues_dir, log_level=LOG_INFO)                                  # <- Приводы\n",
    "\n",
    "\n",
    "# запускаем созданные выше блоки системы, после этого они начнут обработку входящих событий\n",
    "sitl.start()\n",
    "navigation_system.start()\n",
    "servos.start()\n",
    "communication_gateway.start()\n",
    "control_system.start()\n",
    "mission_planner.start()\n",
    "\n",
    "\n",
    "# пусть машинка немного поездит, \n",
    "# параметр sleep - время в секундах\n",
    "sleep(5)\n",
    "\n",
    "# останавливаем все компоненты\n",
    "control_system.stop()\n",
    "communication_gateway.stop()\n",
    "mission_planner.stop()\n",
    "sitl.stop()\n",
    "servos.stop()\n",
    "navigation_system.stop()\n",
    "\n",
    "# дождёмся завершения работы всех компонентов\n",
    "control_system.join()\n",
    "communication_gateway.join()\n",
    "mission_planner.join()\n",
    "sitl.join()\n",
    "servos.join()\n",
    "navigation_system.join()\n",
    "\n",
    "# подчистим все ресурсы для возможности повторного запуска в следующих модулях\n",
    "del control_system, communication_gateway, mission_planner, sitl, servos, navigation_system"
   ]
  },
  {
   "cell_type": "code",
   "execution_count": 15,
   "metadata": {},
   "outputs": [],
   "source": [
    "from src.config import CARGO_BAY_QUEUE_NAME, SERVOS_QUEUE_NAME\n",
    "    \n",
    "class ControlSystem(BaseControlSystem):\n",
    "    \"\"\"ControlSystem блок расчёта управления \"\"\"\n",
    "\n",
    "    def _send_speed_and_direction_to_consumers(self, speed, direction):\n",
    "        servos_q_name = SERVOS_QUEUE_NAME # замените на правильное название очереди\n",
    "        servos_q: Queue = self._queues_dir.get_queue(servos_q_name)\n",
    "\n",
    "        # отправка сообщения с желаемой скоростью\n",
    "        event_speed = Event(source=BaseControlSystem.event_source_name,\n",
    "                      destination=servos_q_name,\n",
    "                      operation=\"set_speed\", parameters=speed\n",
    "                      ) # код создания сообщения со скоростью для приводов\n",
    "\n",
    "        # отправка сообщения с желаемым направлением\n",
    "        event_direction = Event(source=BaseControlSystem.event_source_name,\n",
    "                      destination=servos_q_name,\n",
    "                      operation=\"set_direction\", parameters=direction\n",
    "                      ) # код создания сообщения с направлением для приводов\n",
    "\n",
    "        servos_q.put(event_speed)\n",
    "        servos_q.put(event_direction)   \n",
    "\n",
    "    def _lock_cargo(self):\n",
    "        \"\"\" заблокировать грузовой отсек \"\"\"\n",
    "        cargo_q = self._queues_dir.get_queue(CARGO_BAY_QUEUE_NAME)\n",
    "        event = Event(source=CONTROL_SYSTEM_QUEUE_NAME,\n",
    "                      destination=CARGO_BAY_QUEUE_NAME,\n",
    "                      operation=\"lock_cargo\",\n",
    "                      parameters=None\n",
    "                      )\n",
    "        cargo_q.put(event)\n",
    "\n",
    "    def _release_cargo(self):\n",
    "        \"\"\" открыть грузовой отсек \"\"\"\n",
    "        cargo_q = self._queues_dir.get_queue(CARGO_BAY_QUEUE_NAME)\n",
    "        event = Event(source=CONTROL_SYSTEM_QUEUE_NAME,\n",
    "                      destination=CARGO_BAY_QUEUE_NAME,\n",
    "                      operation=\"release_cargo\",\n",
    "                      parameters=None\n",
    "                      )\n",
    "        cargo_q.put(event)"
   ]
  },
  {
   "cell_type": "code",
   "execution_count": 16,
   "metadata": {},
   "outputs": [
    {
     "name": "stdout",
     "output_type": "stream",
     "text": [
      "[ИНФО][QUEUES] регистрируем очередь planner.mqtt\n",
      "[ИНФО][QUEUES] регистрируем очередь sitl.mqtt\n",
      "[ИНФО][QUEUES] регистрируем очередь planner\n",
      "[ИНФО][MISSION PLANNER] создана система планирования заданий\n",
      "[ИНФО][QUEUES] регистрируем очередь sitl\n",
      "[ИНФО][SITL] симулятор создан, ID m1\n",
      "[ИНФО][QUEUES] регистрируем очередь communication\n",
      "[ИНФО][COMMUNICATION] создан компонент связи\n",
      "[ИНФО][QUEUES] регистрируем очередь control\n",
      "[ИНФО][CONTROL] создана система управления\n",
      "[ИНФО][QUEUES] регистрируем очередь navigation\n",
      "[ИНФО][NAVIGATION] создан компонент навигации\n",
      "[ИНФО][QUEUES] регистрируем очередь servos\n",
      "[ИНФО][QUEUES] регистрируем очередь cargo\n",
      "[ИНФО][CARGO] создан компонент грузового отсека, отсек заблокирован\n",
      "[ИНФО][MISSION_PLANNER.MQTT] старт клиента телеметрии\n",
      "[ИНФО][SITL.MQTT] старт клиента телеметрии[ИНФО][MISSION_PLANNER.MQTT] клиент отправки маршрута создан и запущен\n",
      "\n",
      "[ИНФО][SITL] [SITL] старт симуляции\n",
      "[ИНФО][SITL.MQTT] клиент отправки телеметрии создан и запущен[ИНФО][NAVIGATION] старт навигации\n",
      "\n",
      "[ИНФО][CARGO] старт блока грузового отсека[ИНФО][COMMUNICATION] старт системы планирования заданий\n",
      "\n",
      "[ИНФО][MISSION PLANNER] старт системы планирования заданий[ИНФО][CONTROL] старт системы управления\n",
      "\n",
      "[ИНФО][MISSION PLANNER] запрошена новая задача, отправляем получателям\n",
      "[ИНФО][MISSION PLANNER] новая задача отправлена в коммуникационный шлюз\n",
      "[ИНФО][COMMUNICATION] получен новый маршрут, отправляем в получателям\n",
      "[ИНФО][CONTROL] установлена новая задача, начинаем следовать по маршруту, текущее время 18:17:16.088789\n",
      "[ИНФО][CONTROL] новая скорость 60 (была 0)\n",
      "[ИНФО][CONTROL] новое направление 322 (было 0)[ИНФО][CARGO] заблокировать грузовой отсек\n",
      "\n",
      "[ИНФО][CARGO] грузовой отсек заблокирован\n",
      "[ИНФО][MISSION_PLANNER.MQTT] отправлен маршрут: {\"id\": \"m1\", \"mission_str\": \"QGC WPL 110\\n0\\t1\\t0\\t16\\t0\\t5\\t0\\t0\\t59.9386\\t30.3121\\t0\\t1\\n0\\t0\\t3\\t16\\t0\\t5\\t0\\t0\\t59.9386\\t30.3121\\t0\\t1\\n1\\t0\\t3\\t16\\t0\\t5\\t0\\t0\\t59.9421\\t30.3067\\t0\\t1\\n\"}\n",
      "[ИНФО][CONTROL] маршрут пройден, текущее время 18:17:47.020318\n",
      "[ИНФО][CONTROL] новая скорость 0.0 (была 60)\n",
      "[ИНФО][CONTROL] новое направление 0 (было 322)\n",
      "[ИНФО][CARGO] выгрузка\n",
      "[ИНФО][CARGO] груз оставлен\n"
     ]
    }
   ],
   "source": [
    "from time import sleep\n",
    "from src.mission_planner import MissionPlanner\n",
    "from src.cargo_bay import CargoBay\n",
    "from src.config import LOG_ERROR, LOG_INFO\n",
    "from src.mission_type import Mission, GeoSpecificSpeedLimit\n",
    "from src.system_wrapper import SystemComponentsContainer\n",
    "\n",
    "# вспомогательные блоки для отправки данных в СУПА\n",
    "from src.mission_planner_mqtt import MissionSender\n",
    "from src.sitl_mqtt import TelemetrySender\n",
    "\n",
    "\n",
    "mission_sender = MissionSender(\n",
    "    queues_dir=queues_dir, client_id=car_id, log_level=LOG_INFO)\n",
    "telemetry_sender = TelemetrySender(\n",
    "    queues_dir=queues_dir, client_id=car_id, log_level=LOG_INFO)\n",
    "\n",
    "home = GeoPoint(latitude=59.9386, longitude=30.3121)\n",
    "\n",
    "# сократим маршрут для ускорения процесса\n",
    "mission = Mission(\n",
    "    home=home,\n",
    "    waypoints=[home, GeoPoint(latitude=59.9421, longitude=30.3067)\n",
    "               ],\n",
    "    speed_limits=[\n",
    "        GeoSpecificSpeedLimit(0, 60)\n",
    "    ],\n",
    "    armed=True)\n",
    "\n",
    "mission_planner = MissionPlanner(\n",
    "    queues_dir=queues_dir, afcs_present=afcs_present)\n",
    "mission_planner.set_new_mission(mission=mission)\n",
    "\n",
    "sitl = SITL(queues_dir=queues_dir, position=home,\n",
    "            car_id=car_id, log_level=LOG_INFO, post_telemetry=afcs_present)\n",
    "communication_gateway = CommunicationGateway(\n",
    "    queues_dir=queues_dir, log_level=LOG_INFO)\n",
    "control_system = ControlSystem(queues_dir=queues_dir, log_level=LOG_INFO)\n",
    "navigation_system = NavigationSystem(\n",
    "    queues_dir=queues_dir, log_level=LOG_INFO)\n",
    "servos = Servos(queues_dir=queues_dir, log_level=LOG_ERROR)\n",
    "cargo_bay = CargoBay(queues_dir=queues_dir, log_level=LOG_INFO)\n",
    "\n",
    "\n",
    "# у нас получилось довольно много блоков, используем класс SystemComponentsContainer\n",
    "# для упрощения рутинной работы с ними\n",
    "system_components = SystemComponentsContainer(\n",
    "    components=[\n",
    "        mission_sender,\n",
    "        telemetry_sender,\n",
    "        sitl,\n",
    "        navigation_system,\n",
    "        servos,\n",
    "        cargo_bay,\n",
    "        communication_gateway,\n",
    "        control_system,\n",
    "        mission_planner\n",
    "    ] if afcs_present else [\n",
    "        sitl,\n",
    "        navigation_system,\n",
    "        servos,\n",
    "        cargo_bay,\n",
    "        communication_gateway,\n",
    "        control_system,\n",
    "        mission_planner\n",
    "    ])\n",
    "\n",
    "system_components.start()\n",
    "\n",
    "# пусть машинка немного поездит,\n",
    "# параметр sleep - время в секундах\n",
    "sleep(35)\n",
    "\n",
    "# останавливаем все компоненты\n",
    "system_components.stop()\n",
    "\n",
    "# подчистим все ресурсы для возможности повторного запуска в следующих модулях\n",
    "system_components.clean()"
   ]
  }
 ],
 "metadata": {
  "kernelspec": {
   "display_name": "Python 3",
   "language": "python",
   "name": "python3"
  },
  "language_info": {
   "codemirror_mode": {
    "name": "ipython",
    "version": 3
   },
   "file_extension": ".py",
   "mimetype": "text/x-python",
   "name": "python",
   "nbconvert_exporter": "python",
   "pygments_lexer": "ipython3",
   "version": "3.12.1"
  }
 },
 "nbformat": 4,
 "nbformat_minor": 2
}
